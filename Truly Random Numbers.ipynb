{
 "cells": [
  {
   "cell_type": "code",
   "execution_count": null,
   "id": "3d32dfd6",
   "metadata": {
    "scrolled": false
   },
   "outputs": [],
   "source": [
    "import random\n",
    "import time\n",
    "import sys\n",
    "\n",
    "print(\"Advanced Random Number Generation\")\n",
    "print(\"WARNING - THIS CODE CAN CRASH YOUR SYSTEM. RUN IT ON YOUR OWN RISK.\")\n",
    "time.sleep(5)\n",
    "\n",
    "sure = input(\"Do you still want to continue (yes/no): \")\n",
    "\n",
    "if sure == \"yes\":\n",
    "    print(\"Code starting in 5\")\n",
    "    time.sleep(1)\n",
    "    print(\"4\")\n",
    "    time.sleep(1)\n",
    "    print(\"3\")\n",
    "    time.sleep(1)\n",
    "    print(\"2\")\n",
    "    time.sleep(1)\n",
    "    print(\"1\")\n",
    "    time.sleep(1)\n",
    "    print(\"Code started\")\n",
    "else:\n",
    "    sys.exit()\n",
    "\n",
    "while True:\n",
    "    num0 = random.randint(1, 420934827968460347)\n",
    "    print(num0)\n",
    "    while True:\n",
    "        num1 = random.randint(1, 1000000000000000000000000000)\n",
    "        print(num1)\n",
    "        num2 = random.randint(1, 1000000000000000000000000000)\n",
    "        print(num2)\n",
    "        num3 = random.randint(1, 1000000000000000000000000000)\n",
    "        print(num3)\n",
    "        num4 = random.randint(1, 1000000000000000000000000000)\n",
    "        print(num4)\n",
    "        num5 = random.randint(1, 1000000000000000000000000000)\n",
    "        print(num5)\n",
    "        num6 = random.randint(1, 1000000000000000000000000000)\n",
    "        print(num6)\n",
    "        num7 = random.randint(1, 1000000000000000000000000000)\n",
    "        print(num7)\n",
    "        num8 = random.randint(1, 1000000000000000000000000000)\n",
    "        print(num8)\n",
    "        num9 = random.randint(1, 1000000000000000000000000000)\n",
    "        print(num9)\n",
    "        num10 = random.randint(1, 1000000000000000000000000000)\n",
    "        print(num10)"
   ]
  },
  {
   "cell_type": "code",
   "execution_count": null,
   "id": "db1342c0",
   "metadata": {},
   "outputs": [],
   "source": []
  }
 ],
 "metadata": {
  "kernelspec": {
   "display_name": "Python 3 (ipykernel)",
   "language": "python",
   "name": "python3"
  },
  "language_info": {
   "codemirror_mode": {
    "name": "ipython",
    "version": 3
   },
   "file_extension": ".py",
   "mimetype": "text/x-python",
   "name": "python",
   "nbconvert_exporter": "python",
   "pygments_lexer": "ipython3",
   "version": "3.12.4"
  }
 },
 "nbformat": 4,
 "nbformat_minor": 5
}
