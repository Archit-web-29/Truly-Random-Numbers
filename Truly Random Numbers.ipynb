{
 "cells": [
  {
   "cell_type": "code",
   "execution_count": null,
   "id": "1408846f",
   "metadata": {},
   "outputs": [],
   "source": [
    "import random\n",
    "\n",
    "while True:\n",
    "    num0 = random.randint(1, 420934827968460347)\n",
    "    print(num0)\n",
    "    while True:\n",
    "        num1 = random.randint(1, 1000000000000000000000000000)\n",
    "        print(num1)\n",
    "        num2 = random.randint(1, 1000000000000000000000000000)\n",
    "        print(num2)\n",
    "        num3 = random.randint(1, 1000000000000000000000000000)\n",
    "        print(num3)\n",
    "        num4 = random.randint(1, 1000000000000000000000000000)\n",
    "        print(num4)\n",
    "        num5 = random.randint(1, 1000000000000000000000000000)\n",
    "        print(num5)import random\n",
    "\n",
    "        num6 = random.randint(1, 1000000000000000000000000000)\n",
    "        print(num6)\n",
    "        num7 = random.randint(1, 1000000000000000000000000000)\n",
    "        print(num7)\n",
    "        num8 = random.randint(1, 1000000000000000000000000000)\n",
    "        print(num8)\n",
    "        num9 = random.randint(1, 1000000000000000000000000000)\n",
    "        print(num9)\n",
    "        num10 = random.randint(1, 1000000000000000000000000000)\n",
    "        print(num10)"
   ]
  },
  {
   "cell_type": "code",
   "execution_count": null,
   "id": "cc85763d",
   "metadata": {},
   "outputs": [],
   "source": []
  }
 ],
 "metadata": {
  "kernelspec": {
   "display_name": "Python 3 (ipykernel)",
   "language": "python",
   "name": "python3"
  },
  "language_info": {
   "codemirror_mode": {
    "name": "ipython",
    "version": 3
   },
   "file_extension": ".py",
   "mimetype": "text/x-python",
   "name": "python",
   "nbconvert_exporter": "python",
   "pygments_lexer": "ipython3",
   "version": "3.12.4"
  }
 },
 "nbformat": 4,
 "nbformat_minor": 5
}
